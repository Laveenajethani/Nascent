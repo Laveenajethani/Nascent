{
 "cells": [
  {
   "cell_type": "code",
   "execution_count": 1,
   "id": "26674deb",
   "metadata": {},
   "outputs": [],
   "source": [
    "# Load libraries\n",
    "import cv2\n",
    "import numpy as np\n",
    "import os\n",
    "import boto3\n",
    "import glob\n",
    "from io import BytesIO\n",
    "import numpy as np\n",
    "from PIL import Image\n",
    "import requests"
   ]
  },
  {
   "cell_type": "markdown",
   "id": "f72ae514",
   "metadata": {},
   "source": [
    "# Step-1 -> Create Training Dataset"
   ]
  },
  {
   "cell_type": "code",
   "execution_count": 2,
   "id": "d982e25b",
   "metadata": {},
   "outputs": [],
   "source": [
    "# Load HAAR face classifier\n",
    "face_classifier = cv2.CascadeClassifier('haarcascade_frontalface_default.xml')\n",
    "\n",
    "def face_extractor(img):\n",
    "    \n",
    "    # Function detects faces and returns the cropped face\n",
    "    # If no face detected, it returns the input image\n",
    "    \n",
    "    gray = cv2.cvtColor(img,cv2.COLOR_BGR2GRAY)\n",
    "    faces = face_classifier.detectMultiScale(gray, 1.3, 5)\n",
    "    \n",
    "    if len(faces) == 0:\n",
    "        return None\n",
    "    \n",
    "    # Crop all faces found\n",
    "    for (x,y,w,h) in faces:\n",
    "        cropped_face = img[y:y+h, x:x+w]\n",
    "\n",
    "    return cropped_face"
   ]
  },
  {
   "cell_type": "markdown",
   "id": "c7bf0ae3",
   "metadata": {},
   "source": [
    "# Step-2 -> Capture the user's images for creating a Dataset"
   ]
  },
  {
   "cell_type": "code",
   "execution_count": null,
   "id": "79dbf7e7",
   "metadata": {},
   "outputs": [],
   "source": []
  },
  {
   "cell_type": "markdown",
   "id": "31536658",
   "metadata": {},
   "source": [
    "# Step-3 -> Training the model"
   ]
  },
  {
   "cell_type": "code",
   "execution_count": 3,
   "id": "18ef71c3",
   "metadata": {},
   "outputs": [],
   "source": [
    "session = boto3.Session()\n",
    "credentials = session.get_credentials()\n",
    "credentials = credentials.get_frozen_credentials()\n",
    "access_key = credentials.access_key\n",
    "secret_key = credentials.secret_key"
   ]
  },
  {
   "cell_type": "code",
   "execution_count": 4,
   "id": "8bcfe5c0",
   "metadata": {},
   "outputs": [],
   "source": [
    "s3_resource = boto3.client('s3', aws_access_key_id=access_key, aws_secret_access_key=secret_key)"
   ]
  },
  {
   "cell_type": "code",
   "execution_count": 5,
   "id": "adb42612",
   "metadata": {},
   "outputs": [
    {
     "name": "stdout",
     "output_type": "stream",
     "text": [
      "Model trained successfully\n"
     ]
    }
   ],
   "source": [
    "#importing library\n",
    "import numpy as np\n",
    "from os import listdir\n",
    "import pandas as pd\n",
    "from os.path import isfile,join\n",
    "\n",
    "#getting data which previously made\n",
    "data_path = 'https://nascenttesting.s3.ap-south-1.amazonaws.com/Images/prabhjeet/'\n",
    "#Create arrays for training data and labels\n",
    "Training_Data , Lables = [],[]\n",
    "for i in range(1,101):\n",
    "    im = Image.open(requests.get(data_path+'{}.jpg'.format(str(i)), stream=True).raw)\n",
    "    Training_Data.append(np.asarray(im,dtype=np.uint8))\n",
    "    Lables.append(i)\n",
    "        \n",
    "#create a numpy array for both training data and Labels\n",
    "Labels = np.asarray(Lables,dtype=np.int32)\n",
    "\n",
    "model  = cv2.face_LBPHFaceRecognizer.create()\n",
    "# Let's train our model \n",
    "model.train(np.asarray(Training_Data), np.asarray(Labels))\n",
    "\n",
    "print(\"Model trained successfully\")"
   ]
  },
  {
   "cell_type": "code",
   "execution_count": 6,
   "id": "14d34d83",
   "metadata": {},
   "outputs": [
    {
     "name": "stderr",
     "output_type": "stream",
     "text": [
      "<>:5: SyntaxWarning: \"is\" with a literal. Did you mean \"==\"?\n",
      "<>:5: SyntaxWarning: \"is\" with a literal. Did you mean \"==\"?\n",
      "<ipython-input-6-770d09d07c7f>:5: SyntaxWarning: \"is\" with a literal. Did you mean \"==\"?\n",
      "  if faces is ():\n"
     ]
    }
   ],
   "source": [
    "def face_detector(img,size=0.5):\n",
    "    # convert image to gray scale\n",
    "    gray = cv2.cvtColor(img,cv2.COLOR_BGR2GRAY)\n",
    "    faces = face_classifier.detectMultiScale(gray,1.3,5)\n",
    "    if faces is ():\n",
    "        return img, []\n",
    "    for (x,y,w,h) in faces:\n",
    "        cv2.rectangle(img,(x,y),(x+w,y+h),(0,255,255),2)\n",
    "        roi = img[y:y+h, x:x+w]\n",
    "        roi = cv2.resize(roi,(200,200))\n",
    "    return img, roi"
   ]
  },
  {
   "cell_type": "code",
   "execution_count": 7,
   "id": "c79ad18f",
   "metadata": {},
   "outputs": [],
   "source": [
    "import time\n",
    "def aws_instance():\n",
    "    count = int(input(\"Enter count: \"))\n",
    "    key_name = input(\"Enter Key Name: \")\n",
    "    os.system(\"aws ec2 run-instances --image-id ami-0ad704c126371a549  --instance-type t2.micro  --count {}  --subnet-id subnet-a8626bc0 --security-group-ids sg-2e35e649 --key-name {}\".format(count,key_name))\n",
    "    time.sleep(10)\n",
    "    print(\"Instance launch Successfully\")"
   ]
  },
  {
   "cell_type": "code",
   "execution_count": 10,
   "id": "daf088c4",
   "metadata": {},
   "outputs": [
    {
     "name": "stdout",
     "output_type": "stream",
     "text": [
      "Enter count: 1\n",
      "Enter Key Name: Project_Key\n",
      "Instance launch Successfully\n"
     ]
    }
   ],
   "source": [
    "# Open Webcam\n",
    "cap = cv2.VideoCapture(0)\n",
    "\n",
    "while True:\n",
    "    ret, frame = cap.read()\n",
    "    image, face = face_detector(frame)\n",
    "    try:\n",
    "        face = cv2.cvtColor(face,cv2.COLOR_BGR2GRAY)\n",
    "        \n",
    "        # Pass face to prediction model\n",
    "        # \"results\" comprises of a tuple containing the label and the confidence value.\n",
    "        results = model.predict(face)\n",
    "        if results[1] < 500:\n",
    "            confidence = int(100*(1-(results[1])/400))\n",
    "            display_string = str(confidence) + '% Confident it is User'\n",
    "            \n",
    "        cv2.putText(image,display_string,(100,120),cv2.FONT_HERSHEY_COMPLEX,1,(255,120,150),2)\n",
    "        \n",
    "        if confidence > 80:\n",
    "            cv2.putText(image,\"Hey Prabhjeet Singh\",(250,450),cv2.FONT_HERSHEY_COMPLEX,1,(0,255,0),2)\n",
    "            cv2.imshow(\"Face Recognition\",image)\n",
    "            aws_instance()\n",
    "            break\n",
    "            \n",
    "        else:\n",
    "            cv2.putText(image,\"I don't know who are you\",(250,450),cv2.FONT_HERSHEY_COMPLEX,1,(0,0,255),2)\n",
    "            cv2.imshow(\"Face Recognition\",image)\n",
    "    \n",
    "    except:\n",
    "        cv2.putText(image,\"No Face Found\",(220,120),cv2.FONT_HERSHEY_COMPLEX,1,(0,0,255),2)\n",
    "        cv2.putText(image,\"Looking For Face\",(250,450),cv2.FONT_HERSHEY_COMPLEX,1,(0,0,255),2)\n",
    "        cv2.imshow(\"Face Recognition\",image)\n",
    "        pass\n",
    "    \n",
    "    if cv2.waitKey(1) == 13: # 13 is the Enter Key\n",
    "        break\n",
    "        \n",
    "cap.release()\n",
    "cv2.destroyAllWindows()"
   ]
  },
  {
   "cell_type": "code",
   "execution_count": null,
   "id": "2ba2e91c",
   "metadata": {},
   "outputs": [],
   "source": []
  }
 ],
 "metadata": {
  "kernelspec": {
   "display_name": "Python 3",
   "language": "python",
   "name": "python3"
  },
  "language_info": {
   "codemirror_mode": {
    "name": "ipython",
    "version": 3
   },
   "file_extension": ".py",
   "mimetype": "text/x-python",
   "name": "python",
   "nbconvert_exporter": "python",
   "pygments_lexer": "ipython3",
   "version": "3.8.8"
  }
 },
 "nbformat": 4,
 "nbformat_minor": 5
}
